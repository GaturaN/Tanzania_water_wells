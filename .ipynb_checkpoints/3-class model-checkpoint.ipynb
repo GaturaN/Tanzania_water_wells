{
 "cells": [
  {
   "cell_type": "markdown",
   "metadata": {},
   "source": [
    "Having gotten good results with RandomForest Classifier in binary target, we will use this for 3-class target."
   ]
  },
  {
   "cell_type": "code",
   "execution_count": 1,
   "metadata": {},
   "outputs": [],
   "source": [
    "# importing necessary libraries\n",
    "\n",
    "import matplotlib.pyplot as plt\n",
    "import seaborn as sns; sns.set()\n",
    "%matplotlib inline\n",
    "\n",
    "import pandas as pd\n",
    "import numpy as np\n",
    "\n",
    "from sklearn.tree import DecisionTreeClassifier\n",
    "from sklearn.ensemble import RandomForestClassifier, ExtraTreesClassifier\n",
    "from sklearn.linear_model import LogisticRegression\n",
    "from sklearn.preprocessing import KBinsDiscretizer, FunctionTransformer,RobustScaler\n",
    "from sklearn.model_selection import cross_val_score\n",
    "from category_encoders import OneHotEncoder\n",
    "from sklearn.pipeline import make_pipeline, Pipeline\n",
    "\n",
    "from sklearn.model_selection import GridSearchCV, train_test_split\n",
    "from sklearn.metrics import roc_auc_score\n",
    "\n",
    "from sklearn.datasets import make_classification\n",
    "from sklearn.model_selection import train_test_split, GridSearchCV\n",
    "\n",
    "import warnings\n",
    "warnings.filterwarnings(\"ignore\")\n",
    "\n",
    "import category_encoders as ce\n",
    "from category_encoders import WOEEncoder\n",
    "from sklearn.metrics import accuracy_score, balanced_accuracy_score\n",
    "from sklearn.metrics import confusion_matrix\n",
    "from sklearn.metrics import classification_report\n",
    "\n",
    "from sklearn.compose import ColumnTransformer\n",
    "from category_encoders import TargetEncoder, LeaveOneOutEncoder, JamesSteinEncoder, MEstimateEncoder\n",
    "\n",
    "from mlxtend.evaluate import confusion_matrix\n",
    "from mlxtend.plotting import plot_confusion_matrix\n",
    "from mlxtend.plotting import plot_decision_regions\n",
    "from sklearn.preprocessing import MinMaxScaler\n",
    "from mlxtend.evaluate import feature_importance_permutation\n",
    "from sklearn.experimental import enable_hist_gradient_boosting \n",
    "from sklearn.ensemble import AdaBoostClassifier, GradientBoostingClassifier, HistGradientBoostingClassifier\n",
    "\n",
    "from sklearn.svm import SVC\n",
    "from sklearn.preprocessing import LabelEncoder\n",
    "import xgboost as xgb\n",
    "from xgboost import XGBClassifier\n",
    "from imblearn.over_sampling import SMOTE\n",
    "from sklearn import preprocessing\n",
    "from sklearn.model_selection import RepeatedStratifiedKFold\n",
    "from sklearn.neighbors import KNeighborsClassifier\n",
    "import lightgbm as lgb\n",
    "from lightgbm import LGBMClassifier\n",
    "from sklearn.model_selection import KFold"
   ]
  },
  {
   "cell_type": "code",
   "execution_count": 2,
   "metadata": {},
   "outputs": [],
   "source": [
    "# loading the datset\n",
    "df = pd.read_csv('data/clean_data.csv')"
   ]
  },
  {
   "cell_type": "code",
   "execution_count": 3,
   "metadata": {},
   "outputs": [],
   "source": [
    "pd.options.display.max_columns=100 # to see all columns"
   ]
  },
  {
   "cell_type": "code",
   "execution_count": 4,
   "metadata": {},
   "outputs": [],
   "source": [
    "df.drop(columns=['Unnamed: 0','funder','installer','construction_year'],inplace=True ) # dropping unnecessa"
   ]
  },
  {
   "cell_type": "code",
   "execution_count": 5,
   "metadata": {},
   "outputs": [],
   "source": [
    "df1= df.copy() "
   ]
  },
  {
   "cell_type": "code",
   "execution_count": 6,
   "metadata": {},
   "outputs": [],
   "source": [
    "df1.drop(columns=['lga','ward'],inplace=True )"
   ]
  },
  {
   "cell_type": "code",
   "execution_count": 7,
   "metadata": {},
   "outputs": [],
   "source": [
    "df1['permit'] = df1['permit'].astype(bool).astype(int) #converting from T/F to 0-1"
   ]
  },
  {
   "cell_type": "code",
   "execution_count": 8,
   "metadata": {},
   "outputs": [],
   "source": [
    "df1['public_meeting'] = df1['public_meeting'].astype(bool).astype(int) #converting from T/F to 0-1"
   ]
  },
  {
   "cell_type": "code",
   "execution_count": 9,
   "metadata": {},
   "outputs": [],
   "source": [
    "# assigning categorical columns\n",
    "cat_col = ['basin','region','extraction_type_group','management','payment','water_quality','quantity','source','waterpoint_type','decade']"
   ]
  },
  {
   "cell_type": "code",
   "execution_count": 10,
   "metadata": {},
   "outputs": [],
   "source": [
    "# assigning numeric columns\n",
    "num_col = ['gps_height','longitude','latitude','district_code','population','public_meeting','permit']"
   ]
  },
  {
   "cell_type": "code",
   "execution_count": 11,
   "metadata": {},
   "outputs": [
    {
     "data": {
      "text/plain": [
       "status_group\n",
       "0    32259\n",
       "2    22824\n",
       "1     4317\n",
       "Name: count, dtype: int64"
      ]
     },
     "execution_count": 11,
     "metadata": {},
     "output_type": "execute_result"
    }
   ],
   "source": [
    "df1['status_group'].value_counts()"
   ]
  },
  {
   "cell_type": "markdown",
   "metadata": {},
   "source": [
    "our target labels;\n",
    "\n",
    "0 = functional\n",
    "1 = functional but needs repair\n",
    "2 = non-functional"
   ]
  },
  {
   "cell_type": "code",
   "execution_count": 12,
   "metadata": {},
   "outputs": [],
   "source": [
    "# assign target\n",
    "target='status_group'"
   ]
  },
  {
   "cell_type": "code",
   "execution_count": 13,
   "metadata": {},
   "outputs": [],
   "source": [
    "# seperate columns to X,y \n",
    "used_cols = [c for c in df1.columns.tolist() if c not in [target]]\n",
    "X=df1[used_cols]\n",
    "y=df1[target]"
   ]
  },
  {
   "cell_type": "code",
   "execution_count": 14,
   "metadata": {},
   "outputs": [],
   "source": [
    "# choosing train-test splits\n",
    "X_train, X_test, y_train, y_test = train_test_split(X, y, test_size=0.2, random_state=42)"
   ]
  },
  {
   "cell_type": "markdown",
   "metadata": {},
   "source": [
    "**Random Forest**"
   ]
  },
  {
   "cell_type": "code",
   "execution_count": 15,
   "metadata": {},
   "outputs": [
    {
     "name": "stdout",
     "output_type": "stream",
     "text": [
      "Accuracy:\n",
      "=========\n",
      "TRAIN: 0.9204545454545454\n",
      "TEST: 0.7914141414141415\n",
      "\n",
      "Balanced Accuracy:\n",
      "==================\n",
      "TRAIN: 0.9341261042973555\n",
      "TEST: 0.7044348948246997\n"
     ]
    }
   ],
   "source": [
    "# choosing scaler and encoder\n",
    "scaler=RobustScaler()\n",
    "encoder = ce.TargetEncoder(cols=cat_col)\n",
    "\n",
    "# putting numeric columns to scaler and categorical to encoder\n",
    "num_transformer = make_pipeline(scaler)\n",
    "cat_transformer = make_pipeline(encoder)\n",
    "\n",
    "# getting together our scaler and encoder with preprocessor\n",
    "preprocessor = ColumnTransformer(\n",
    "      transformers=[('num', num_transformer, num_col),\n",
    "                    ('cat', cat_transformer, cat_col)])\n",
    "\n",
    "# set rf with best grid search results\n",
    "\n",
    "rf = RandomForestClassifier(n_estimators=100, random_state=42, n_jobs=-1,\n",
    "                            criterion= 'entropy',max_features= 'sqrt',\n",
    "                             min_samples_split= 10,class_weight='balanced')\n",
    "\n",
    "#giving all values to pipeline\n",
    "\n",
    "pipe = make_pipeline(preprocessor,rf)\n",
    "\n",
    "\n",
    "pipe.fit(X_train,y_train)\n",
    "# predictions on train set\n",
    "y_pred = pipe.predict(X_train)\n",
    "\n",
    "# predictions on test set\n",
    "y_pred_test = pipe.predict(X_test)\n",
    "\n",
    "# to print the results in good way\n",
    "print(\"Accuracy:\"); print(\"=\"*len(\"Accuracy:\"))\n",
    "print(f\"TRAIN: {accuracy_score(y_train, y_pred)}\")\n",
    "print(f\"TEST: {accuracy_score(y_test, y_pred_test)}\")\n",
    "\n",
    "print(\"\\nBalanced Accuracy:\"); print(\"=\"*len(\"Balanced Accuracy:\"))\n",
    "print(f\"TRAIN: {balanced_accuracy_score(y_train, y_pred)}\")\n",
    "print(f\"TEST: {balanced_accuracy_score(y_test, y_pred_test)}\")"
   ]
  },
  {
   "cell_type": "code",
   "execution_count": 16,
   "metadata": {},
   "outputs": [
    {
     "data": {
      "image/png": "[encoded data removed]",
      "text/plain": [
       "<Figure size 432x288 with 1 Axes>"
      ]
     },
     "metadata": {
      "needs_background": "light"
     },
     "output_type": "display_data"
    }
   ],
   "source": [
    "cm = confusion_matrix(y_test, y_pred_test)\n",
    "plot_confusion_matrix(cm)\n",
    "plt.show()"
   ]
  },
  {
   "cell_type": "markdown",
   "metadata": {},
   "source": [
    "Our 3-class dataframe does not fit well to previous binary model. It is highly overfit. To handle with overfit we will try to LGBM and XGBoost with parameters."
   ]
  },
  {
   "cell_type": "markdown",
   "metadata": {},
   "source": [
    "**LGBM**"
   ]
  },
  {
   "cell_type": "code",
   "execution_count": 17,
   "metadata": {},
   "outputs": [
    {
     "name": "stdout",
     "output_type": "stream",
     "text": [
      "[LightGBM] [Warning] Unknown parameter: booster\n",
      "[LightGBM] [Warning] Unknown parameter: maximize\n",
      "[LightGBM] [Warning] num_iterations is set=100, nrounds=100 will be ignored. Current value: num_iterations=100\n",
      "[LightGBM] [Warning] learning_rate is set=0.1, eta=0.1 will be ignored. Current value: learning_rate=0.1\n",
      "[LightGBM] [Warning] Accuracy may be bad since you didn't explicitly set num_leaves OR 2^max_depth > num_leaves. (num_leaves=31).\n",
      "[LightGBM] [Warning] Unknown parameter: booster\n",
      "[LightGBM] [Warning] Unknown parameter: maximize\n",
      "[LightGBM] [Warning] learning_rate is set=0.1, eta=0.1 will be ignored. Current value: learning_rate=0.1\n",
      "[LightGBM] [Warning] Accuracy may be bad since you didn't explicitly set num_leaves OR 2^max_depth > num_leaves. (num_leaves=31).\n",
      "[LightGBM] [Info] Auto-choosing col-wise multi-threading, the overhead of testing was 0.007947 seconds.\n",
      "You can set `force_col_wise=true` to remove the overhead.\n",
      "[LightGBM] [Info] Total Bins 1153\n",
      "[LightGBM] [Info] Number of data points in the train set: 47520, number of used features: 17\n",
      "[LightGBM] [Info] Start training from score -0.610699\n",
      "[LightGBM] [Info] Start training from score -2.618149\n",
      "[LightGBM] [Info] Start training from score -0.956876\n",
      "[LightGBM] [Warning] Unknown parameter: booster\n",
      "[LightGBM] [Warning] Unknown parameter: maximize\n",
      "[LightGBM] [Warning] learning_rate is set=0.1, eta=0.1 will be ignored. Current value: learning_rate=0.1\n",
      "[LightGBM] [Warning] Accuracy may be bad since you didn't explicitly set num_leaves OR 2^max_depth > num_leaves. (num_leaves=31).\n",
      "[LightGBM] [Warning] Unknown parameter: booster\n",
      "[LightGBM] [Warning] Unknown parameter: maximize\n",
      "[LightGBM] [Warning] learning_rate is set=0.1, eta=0.1 will be ignored. Current value: learning_rate=0.1\n",
      "[LightGBM] [Warning] Accuracy may be bad since you didn't explicitly set num_leaves OR 2^max_depth > num_leaves. (num_leaves=31).\n",
      "Accuracy:\n",
      "=========\n",
      "TRAIN: 0.7955597643097643\n",
      "TEST: 0.7797138047138047\n",
      "\n",
      "Balanced Accuracy:\n",
      "==================\n",
      "TRAIN: 0.6242039689938611\n",
      "TEST: 0.6059367948924687\n"
     ]
    },
    {
     "data": {
      "image/png": "[encoded data removed]",
      "text/plain": [
       "<Figure size 432x288 with 1 Axes>"
      ]
     },
     "metadata": {
      "needs_background": "light"
     },
     "output_type": "display_data"
    }
   ],
   "source": [
    "#seting model\n",
    "lgbm = LGBMClassifier(booster = 'gbtree', nrounds = 100, maximize = False,eta = .1,max_depth = 10, colsample_bytree = .4,learning_rate = 0.1,max_delta_step=1)\n",
    "\n",
    "#sending everthing in pipe\n",
    "pipe = make_pipeline(preprocessor,lgbm)\n",
    "pipe.fit(X_train, y_train)\n",
    "\n",
    "# predictions on train set\n",
    "y_pred = pipe.predict(X_train)\n",
    "\n",
    "# predictions on test set\n",
    "y_pred_test = pipe.predict(X_test)\n",
    "\n",
    "print(\"Accuracy:\"); print(\"=\"*len(\"Accuracy:\"))\n",
    "print(f\"TRAIN: {accuracy_score(y_train, y_pred)}\")\n",
    "print(f\"TEST: {accuracy_score(y_test, y_pred_test)}\")\n",
    "\n",
    "print(\"\\nBalanced Accuracy:\"); print(\"=\"*len(\"Balanced Accuracy:\"))\n",
    "print(f\"TRAIN: {balanced_accuracy_score(y_train, y_pred)}\")\n",
    "print(f\"TEST: {balanced_accuracy_score(y_test, y_pred_test)}\")\n",
    "\n",
    "#confusion matrix\n",
    "cm = confusion_matrix(y_test, y_pred_test)\n",
    "plot_confusion_matrix(cm)\n",
    "plt.show()"
   ]
  },
  {
   "cell_type": "markdown",
   "metadata": {},
   "source": [
    "LightGBM did good job about handling overfit but our accuracy is very low. So, we will continue to XGBoost."
   ]
  },
  {
   "cell_type": "markdown",
   "metadata": {},
   "source": [
    "**XGBoost**"
   ]
  },
  {
   "cell_type": "code",
   "execution_count": 18,
   "metadata": {},
   "outputs": [
    {
     "name": "stdout",
     "output_type": "stream",
     "text": [
      "Accuracy:\n",
      "=========\n",
      "TRAIN: 0.8297558922558923\n",
      "TEST: 0.7951178451178451\n",
      "\n",
      "Balanced Accuracy:\n",
      "==================\n",
      "TRAIN: 0.658789681225371\n",
      "TEST: 0.6227623809659145\n"
     ]
    },
    {
     "data": {
      "image/png": "[encoded data removed]",
      "text/plain": [
       "<Figure size 432x288 with 1 Axes>"
      ]
     },
     "metadata": {
      "needs_background": "light"
     },
     "output_type": "display_data"
    }
   ],
   "source": [
    "xgb = XGBClassifier(objective = 'multi:softmax', booster = 'gbtree', nrounds = 'min.error.idx',\n",
    "                      num_class = 3, maximize = False, eval_metric = 'merror', eta = .1,\n",
    "                      max_depth = 10, colsample_bytree = .4, n_jobs = -1,learning_rate = 0.05)\n",
    "\n",
    "pipe = make_pipeline(preprocessor,xgb)\n",
    "pipe.fit(X_train, y_train)\n",
    "\n",
    "\n",
    "# make predictions on training set\n",
    "y_pred = pipe.predict(X_train)\n",
    "\n",
    "# make predictions on test set\n",
    "y_pred_test = pipe.predict(X_test)\n",
    "\n",
    "# to print the results in good way\n",
    "print(\"Accuracy:\"); print(\"=\"*len(\"Accuracy:\"))\n",
    "print(f\"TRAIN: {accuracy_score(y_train, y_pred)}\")\n",
    "print(f\"TEST: {accuracy_score(y_test, y_pred_test)}\")\n",
    "\n",
    "print(\"\\nBalanced Accuracy:\"); print(\"=\"*len(\"Balanced Accuracy:\"))\n",
    "print(f\"TRAIN: {balanced_accuracy_score(y_train, y_pred)}\")\n",
    "print(f\"TEST: {balanced_accuracy_score(y_test, y_pred_test)}\")\n",
    "\n",
    "\n",
    "cm = confusion_matrix(y_test, y_pred_test)\n",
    "plot_confusion_matrix(cm)\n",
    "plt.show()"
   ]
  },
  {
   "cell_type": "markdown",
   "metadata": {},
   "source": [
    "XGBoost also gave overfit results. With playing around parameters we got closer the train- test balanced accuracy results, but stil it is overfit and there are big difference between accuracy and balanced accuracy. Also, 62% is very less. From this information, we understand that we need to solve our imbalanced class problem. To do this, there are some ways. We can set class weight as balanced in Random Forest which we have already done. The other common solution is to resampling imbalanced data. There are two main ways; over-sampling and under-sampling. One of our labels is really insufficient. So, we will use over sampling technique. It tries to balance target with increasing the number of the rare samples. To protect our data from abundant samples, new rare samples must be generated by using techniques as repetition, bootstrapping or SMOTE (Synthetic Minority Over-Sampling Technique)."
   ]
  },
  {
   "cell_type": "markdown",
   "metadata": {},
   "source": [
    "**SMOTE**"
   ]
  },
  {
   "cell_type": "markdown",
   "metadata": {},
   "source": [
    "To use SMOTE with scaler and encoder takes too much time. So, we will encode and scale our dataframe and change it. To protect the original one, we assign it to new df."
   ]
  },
  {
   "cell_type": "code",
   "execution_count": 19,
   "metadata": {},
   "outputs": [],
   "source": [
    "df4=df1.copy() # assign to protect original one "
   ]
  },
  {
   "cell_type": "code",
   "execution_count": 20,
   "metadata": {},
   "outputs": [],
   "source": [
    "# encoding categorical columns\n",
    "encoder = TargetEncoder()\n",
    "\n",
    "for c in cat_col:\n",
    "    df4[str(c) + '_encoded'] = encoder.fit_transform(df4[c].values, df4[target])\n",
    "    df4.drop(columns=c, inplace=True) "
   ]
  },
  {
   "cell_type": "code",
   "execution_count": 21,
   "metadata": {},
   "outputs": [],
   "source": [
    "# scaling numerical columns\n",
    "\n",
    "scaler = preprocessing.RobustScaler()\n",
    "\n",
    "\n",
    "def scaleColumns(df, num_col):\n",
    "    for col in num_col:\n",
    "        df[col] = pd.DataFrame(scaler.fit_transform(pd.DataFrame(df4[col])),columns=[col])\n",
    "    return df\n",
    "\n",
    "scaled_df = scaleColumns(df4,[num_col])"
   ]
  },
  {
   "cell_type": "code",
   "execution_count": 22,
   "metadata": {},
   "outputs": [],
   "source": [
    "# assign X and y\n",
    "used_cols = [c for c in scaled_df.columns.tolist() if c not in [target]]\n",
    "X=scaled_df[used_cols]\n",
    "y=scaled_df[target]"
   ]
  },
  {
   "cell_type": "code",
   "execution_count": 23,
   "metadata": {},
   "outputs": [
    {
     "name": "stdout",
     "output_type": "stream",
     "text": [
      "status_group\n",
      "0    32259\n",
      "2    22824\n",
      "1     4317\n",
      "Name: count, dtype: int64\n",
      "status_group\n",
      "0    32259\n",
      "2    32259\n",
      "1    32259\n",
      "Name: count, dtype: int64\n"
     ]
    }
   ],
   "source": [
    "# making over-sampling \n",
    "\n",
    "smt = SMOTE(sampling_strategy = 'auto', n_jobs = -1)\n",
    "\n",
    "X_sampled, y_sample = smt.fit_resample(X, y)\n",
    "\n",
    "print(y.value_counts())\n",
    "\n",
    "y_sampled = pd.Series(y_sample) # converting from array to np.series to see value_counts\n",
    "\n",
    "print(y_sampled.value_counts())"
   ]
  },
  {
   "cell_type": "markdown",
   "metadata": {},
   "source": [
    "Our target was made baanced with taking random samples."
   ]
  },
  {
   "cell_type": "code",
   "execution_count": 24,
   "metadata": {},
   "outputs": [],
   "source": [
    "\n",
    "#splitting train-test balanced target data\n",
    "X_train, X_test, y_train, y_test = train_test_split(X_sampled, y_sampled, test_size=0.2, random_state=42)"
   ]
  },
  {
   "cell_type": "code",
   "execution_count": 25,
   "metadata": {},
   "outputs": [
    {
     "name": "stdout",
     "output_type": "stream",
     "text": [
      "[0]\tvalidation_0-merror:0.24871\n",
      "[1]\tvalidation_0-merror:0.21105\n",
      "[2]\tvalidation_0-merror:0.20268\n",
      "[3]\tvalidation_0-merror:0.19054\n",
      "[4]\tvalidation_0-merror:0.19136\n",
      "[5]\tvalidation_0-merror:0.18878\n",
      "[6]\tvalidation_0-merror:0.18614\n",
      "[7]\tvalidation_0-merror:0.18387\n",
      "[8]\tvalidation_0-merror:0.18258\n",
      "[9]\tvalidation_0-merror:0.18025\n",
      "[10]\tvalidation_0-merror:0.18051\n",
      "[11]\tvalidation_0-merror:0.17943\n",
      "[12]\tvalidation_0-merror:0.17865\n",
      "[13]\tvalidation_0-merror:0.17664\n",
      "[14]\tvalidation_0-merror:0.17467\n",
      "[15]\tvalidation_0-merror:0.17276\n",
      "[16]\tvalidation_0-merror:0.17261\n",
      "[17]\tvalidation_0-merror:0.17183\n",
      "[18]\tvalidation_0-merror:0.17008\n",
      "[19]\tvalidation_0-merror:0.16889\n",
      "[20]\tvalidation_0-merror:0.16832\n",
      "[21]\tvalidation_0-merror:0.16625\n",
      "[22]\tvalidation_0-merror:0.16532\n",
      "[23]\tvalidation_0-merror:0.16543\n",
      "[24]\tvalidation_0-merror:0.16501\n",
      "[25]\tvalidation_0-merror:0.16522\n",
      "[26]\tvalidation_0-merror:0.16367\n",
      "[27]\tvalidation_0-merror:0.16341\n",
      "[28]\tvalidation_0-merror:0.16284\n",
      "[29]\tvalidation_0-merror:0.16238\n",
      "[30]\tvalidation_0-merror:0.16202\n",
      "[31]\tvalidation_0-merror:0.16062\n",
      "[32]\tvalidation_0-merror:0.16021\n",
      "[33]\tvalidation_0-merror:0.15897\n",
      "[34]\tvalidation_0-merror:0.15985\n",
      "[35]\tvalidation_0-merror:0.15923\n",
      "[36]\tvalidation_0-merror:0.15783\n",
      "[37]\tvalidation_0-merror:0.15675\n",
      "[38]\tvalidation_0-merror:0.15664\n",
      "[39]\tvalidation_0-merror:0.15675\n",
      "[40]\tvalidation_0-merror:0.15566\n",
      "[41]\tvalidation_0-merror:0.15520\n",
      "[42]\tvalidation_0-merror:0.15453\n",
      "[43]\tvalidation_0-merror:0.15442\n",
      "[44]\tvalidation_0-merror:0.15442\n",
      "[45]\tvalidation_0-merror:0.15427\n",
      "[46]\tvalidation_0-merror:0.15365\n",
      "[47]\tvalidation_0-merror:0.15329\n",
      "[48]\tvalidation_0-merror:0.15339\n",
      "[49]\tvalidation_0-merror:0.15292\n",
      "[50]\tvalidation_0-merror:0.15272\n",
      "[51]\tvalidation_0-merror:0.15236\n",
      "[52]\tvalidation_0-merror:0.15210\n",
      "[53]\tvalidation_0-merror:0.15158\n",
      "[54]\tvalidation_0-merror:0.15101\n",
      "[55]\tvalidation_0-merror:0.15096\n",
      "[56]\tvalidation_0-merror:0.15075\n",
      "[57]\tvalidation_0-merror:0.15086\n",
      "[58]\tvalidation_0-merror:0.15075\n",
      "[59]\tvalidation_0-merror:0.15034\n",
      "[60]\tvalidation_0-merror:0.14982\n",
      "[61]\tvalidation_0-merror:0.14988\n",
      "[62]\tvalidation_0-merror:0.15019\n",
      "[63]\tvalidation_0-merror:0.15013\n",
      "[64]\tvalidation_0-merror:0.15013\n",
      "[65]\tvalidation_0-merror:0.14957\n",
      "[66]\tvalidation_0-merror:0.14988\n",
      "[67]\tvalidation_0-merror:0.14926\n",
      "[68]\tvalidation_0-merror:0.14874\n",
      "[69]\tvalidation_0-merror:0.14869\n",
      "[70]\tvalidation_0-merror:0.14884\n",
      "[71]\tvalidation_0-merror:0.14869\n",
      "[72]\tvalidation_0-merror:0.14874\n",
      "[73]\tvalidation_0-merror:0.14843\n",
      "[74]\tvalidation_0-merror:0.14827\n",
      "[75]\tvalidation_0-merror:0.14796\n",
      "[76]\tvalidation_0-merror:0.14745\n",
      "[77]\tvalidation_0-merror:0.14734\n",
      "[78]\tvalidation_0-merror:0.14755\n",
      "[79]\tvalidation_0-merror:0.14740\n",
      "[80]\tvalidation_0-merror:0.14771\n",
      "[81]\tvalidation_0-merror:0.14786\n",
      "[82]\tvalidation_0-merror:0.14802\n",
      "[83]\tvalidation_0-merror:0.14812\n",
      "[84]\tvalidation_0-merror:0.14760\n",
      "[85]\tvalidation_0-merror:0.14745\n",
      "[86]\tvalidation_0-merror:0.14740\n",
      "[87]\tvalidation_0-merror:0.14667\n",
      "[88]\tvalidation_0-merror:0.14688\n",
      "[89]\tvalidation_0-merror:0.14662\n",
      "[90]\tvalidation_0-merror:0.14631\n",
      "[91]\tvalidation_0-merror:0.14595\n",
      "[92]\tvalidation_0-merror:0.14626\n",
      "[93]\tvalidation_0-merror:0.14579\n",
      "[94]\tvalidation_0-merror:0.14569\n",
      "[95]\tvalidation_0-merror:0.14559\n",
      "[96]\tvalidation_0-merror:0.14585\n",
      "[97]\tvalidation_0-merror:0.14600\n",
      "[98]\tvalidation_0-merror:0.14585\n",
      "[99]\tvalidation_0-merror:0.14548\n",
      "Accuracy:\n",
      "=========\n",
      "TRAIN: 0.9336355769106573\n",
      "TEST: 0.8545153957429221\n",
      "\n",
      "Balanced Accuracy:\n",
      "==================\n",
      "TRAIN: 0.933622456808277\n",
      "TEST: 0.8545502945156768\n"
     ]
    }
   ],
   "source": [
    "import xgboost as xgb\n",
    "from xgboost import XGBClassifier\n",
    "from sklearn.metrics import accuracy_score, balanced_accuracy_score\n",
    "\n",
    "# Define the XGBClassifier\n",
    "xgb_model = XGBClassifier(\n",
    "    objective='multi:softmax',\n",
    "    booster='gbtree',\n",
    "    num_class=3,\n",
    "    maximize=False,\n",
    "    eval_metric='merror',\n",
    "    eta=0.1,\n",
    "    max_depth=16,\n",
    "    colsample_bytree=0.4,\n",
    "    n_jobs=-1,\n",
    "    learning_rate=0.1,\n",
    "    early_stopping_rounds=10\n",
    ")\n",
    "\n",
    "# Fit the model on the training data\n",
    "xgb_model.fit(X_train, y_train, eval_set=[(X_test, y_test)], verbose=True)\n",
    "\n",
    "# Make predictions\n",
    "y_pred = xgb_model.predict(X_train)\n",
    "y_pred_test = xgb_model.predict(X_test)\n",
    "\n",
    "# Print the results\n",
    "print(\"Accuracy:\")\n",
    "print(\"=\" * len(\"Accuracy:\"))\n",
    "print(f\"TRAIN: {accuracy_score(y_train, y_pred)}\")\n",
    "print(f\"TEST: {accuracy_score(y_test, y_pred_test)}\")\n",
    "\n",
    "print(\"\\nBalanced Accuracy:\")\n",
    "print(\"=\" * len(\"Balanced Accuracy:\"))\n",
    "print(f\"TRAIN: {balanced_accuracy_score(y_train, y_pred)}\")\n",
    "print(f\"TEST: {balanced_accuracy_score(y_test, y_pred_test)}\")\n"
   ]
  },
  {
   "cell_type": "code",
   "execution_count": 26,
   "metadata": {},
   "outputs": [
    {
     "data": {
      "image/png": "[encoded data removed]",
      "text/plain": [
       "<Figure size 432x288 with 1 Axes>"
      ]
     },
     "metadata": {
      "needs_background": "light"
     },
     "output_type": "display_data"
    }
   ],
   "source": [
    "cm = confusion_matrix(y_test, y_pred_test)\n",
    "plot_confusion_matrix(cm)\n",
    "plt.show()"
   ]
  },
  {
   "cell_type": "markdown",
   "metadata": {},
   "source": [
    "With smote, we found best test balanced accuracy. 85% is a enough good result for the first submission. From the confusion matrix, it is seen that splits are clear but not exact. We will work on overfitting problem more with tuning the parametes as future plan. "
   ]
  },
  {
   "cell_type": "markdown",
   "metadata": {},
   "source": [
    "**Conclusion**"
   ]
  },
  {
   "cell_type": "markdown",
   "metadata": {},
   "source": [
    "All of these 4 models, XGBoost is best when we use it with SMOTE. So, our new and decided model is XGBoost with SMOTE. With 85% accuracy, we can predict the functionality of the wells."
   ]
  }
 ],
 "metadata": {
  "kernelspec": {
   "display_name": "Python (learn-env)",
   "language": "python",
   "name": "learn-env"
  },
  "language_info": {
   "codemirror_mode": {
    "name": "ipython",
    "version": 3
   },
   "file_extension": ".py",
   "mimetype": "text/x-python",
   "name": "python",
   "nbconvert_exporter": "python",
   "pygments_lexer": "ipython3",
   "version": "3.8.5"
  }
 },
 "nbformat": 4,
 "nbformat_minor": 4
}
